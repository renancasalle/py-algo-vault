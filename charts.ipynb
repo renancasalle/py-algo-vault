{
 "cells": [
  {
   "cell_type": "code",
   "execution_count": null,
   "metadata": {},
   "outputs": [],
   "source": [
    "import pandas as pd \n",
    "import numpy as np\n",
    "import matplotlib.pyplot as plt\n",
    "import seaborn as sns"
   ]
  },
  {
   "cell_type": "code",
   "execution_count": null,
   "metadata": {},
   "outputs": [],
   "source": [
    "df = pd.read_csv('path to the dataset')\n"
   ]
  },
  {
   "cell_type": "code",
   "execution_count": null,
   "metadata": {},
   "outputs": [],
   "source": [
    "print(df.head())"
   ]
  },
  {
   "cell_type": "code",
   "execution_count": null,
   "metadata": {},
   "outputs": [],
   "source": [
    "df.describe()"
   ]
  },
  {
   "cell_type": "code",
   "execution_count": 1,
   "metadata": {},
   "outputs": [],
   "source": [
    "#replace values in the dataset\n",
    "df['column name'] = df['column name'].str.replace('old value', 'new value')\n",
    "\n",
    "#convert the column to integer\n",
    "df['column name'] = pd.to_numeric(df['column name'])\n",
    "plt.title('tile of chart')\n",
    "plt.xlabe('x axis label')\n",
    "plt.ylabel('y axis label')\n",
    "plt.show()"
   ]
  },
  {
   "cell_type": "code",
   "execution_count": null,
   "metadata": {},
   "outputs": [],
   "source": [
    "rating_above_4_5 = df[df['rating'] > 4.5]\n",
    "rating_counts = rating_above_4_5['rating'].value_counts().sort_index()\n",
    "\n",
    "plt.figure(figsize=(10, 6))"
   ]
  },
  {
   "cell_type": "code",
   "execution_count": null,
   "metadata": {},
   "outputs": [],
   "source": [
    "part1 = df[df['column name']] <= 50\n",
    "part2 = df[df['column name']] > 50\n",
    "part3 = df[df['column name']] > 500\n",
    "\n",
    "# count the number of rows in each part\n",
    "\n",
    "count_part1 = len(part1)\n",
    "count_part2 = len(part2)\n",
    "count_part3 = len(part3)\n",
    "\n",
    "#prepare the data for the pie chart\n",
    "\n",
    "counts = [count_part1, count_part2, count_part3]\n",
    "parts = ['lower than 50', ' between 50 and 500', 'higher than 500']\n",
    "explode = (0.1, 0, 0) # explode the first slice\n",
    "\n",
    "#create a pie chart \n",
    "\n",
    "plt.figure(figsize=(8.8))\n",
    "plt.pie(counts, labels = parts, autopct = '1.1%f%%', startangle = 140, explode = explode)\n",
    "plt.title ('title of the pie chart')\n",
    "plt.axis\n"
   ]
  }
 ],
 "metadata": {
  "kernelspec": {
   "display_name": "Python 3",
   "language": "python",
   "name": "python3"
  },
  "language_info": {
   "codemirror_mode": {
    "name": "ipython",
    "version": 3
   },
   "file_extension": ".py",
   "mimetype": "text/x-python",
   "name": "python",
   "nbconvert_exporter": "python",
   "pygments_lexer": "ipython3",
   "version": "3.11.8"
  }
 },
 "nbformat": 4,
 "nbformat_minor": 2
}
