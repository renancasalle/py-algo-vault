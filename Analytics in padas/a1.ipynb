{
 "cells": [
  {
   "cell_type": "code",
   "execution_count": 16,
   "metadata": {},
   "outputs": [],
   "source": [
    "import pandas as pd\n",
    "import numpy as np\n",
    "import polars as pl\n",
    "import matplotlib.pyplot as plt\n",
    "pd.set_option('display.max_column', 100 )\n"
   ]
  },
  {
   "cell_type": "code",
   "execution_count": 21,
   "metadata": {},
   "outputs": [
    {
     "name": "stdout",
     "output_type": "stream",
     "text": [
      "   NU_INSCRICAO  NU_ANO  TP_FAIXA_ETARIA TP_SEXO  TP_ESTADO_CIVIL  \\\n",
      "0  210051128744    2021                4       F                1   \n",
      "1  210054173438    2021                5       F                1   \n",
      "2  210052118573    2021                3       F                1   \n",
      "3  210052350230    2021               10       F                1   \n",
      "4  210053156861    2021                9       M                1   \n",
      "\n",
      "   TP_COR_RACA  TP_NACIONALIDADE  TP_ST_CONCLUSAO  TP_ANO_CONCLUIU  TP_ESCOLA  \\\n",
      "0            3                 1                2                0          2   \n",
      "1            2                 1                2                0          2   \n",
      "2            3                 1                2                0          2   \n",
      "3            2                 1                1                8          1   \n",
      "4            2                 1                1                5          1   \n",
      "\n",
      "   TP_ENSINO  IN_TREINEIRO  CO_MUNICIPIO_ESC NO_MUNICIPIO_ESC  CO_UF_ESC  \\\n",
      "0        1.0             0               NaN              NaN        NaN   \n",
      "1        1.0             0         2927408.0         Salvador       29.0   \n",
      "2        1.0             0               NaN              NaN        NaN   \n",
      "3        NaN             0               NaN              NaN        NaN   \n",
      "4        NaN             0               NaN              NaN        NaN   \n",
      "\n",
      "  SG_UF_ESC  TP_DEPENDENCIA_ADM_ESC  TP_LOCALIZACAO_ESC  TP_SIT_FUNC_ESC  \\\n",
      "0       NaN                     NaN                 NaN              NaN   \n",
      "1        BA                     1.0                 1.0              1.0   \n",
      "2       NaN                     NaN                 NaN              NaN   \n",
      "3       NaN                     NaN                 NaN              NaN   \n",
      "4       NaN                     NaN                 NaN              NaN   \n",
      "\n",
      "   CO_MUNICIPIO_PROVA NO_MUNICIPIO_PROVA  CO_UF_PROVA SG_UF_PROVA  \\\n",
      "0             2927200        Ruy Barbosa           29          BA   \n",
      "1             2927408           Salvador           29          BA   \n",
      "2             2903201          Barreiras           29          BA   \n",
      "3             2928802      Santo Estêvão           29          BA   \n",
      "4             2910800   Feira de Santana           29          BA   \n",
      "\n",
      "   TP_PRESENCA_CN  TP_PRESENCA_CH  TP_PRESENCA_LC  TP_PRESENCA_MT  \\\n",
      "0               1               1               1               1   \n",
      "1               0               0               0               0   \n",
      "2               1               1               1               1   \n",
      "3               1               1               1               1   \n",
      "4               1               1               1               1   \n",
      "\n",
      "   CO_PROVA_CN  CO_PROVA_CH  CO_PROVA_LC  CO_PROVA_MT  NU_NOTA_CN  NU_NOTA_CH  \\\n",
      "0        909.0        881.0        892.0        899.0       507.6       539.2   \n",
      "1          NaN          NaN          NaN          NaN         NaN         NaN   \n",
      "2        912.0        882.0        891.0        901.0       439.6       437.7   \n",
      "3        911.0        880.0        890.0        902.0       548.1       619.5   \n",
      "4       1014.0       1000.0       1004.0       1010.0       465.2       613.1   \n",
      "\n",
      "   NU_NOTA_LC  NU_NOTA_MT                                TX_RESPOSTAS_CN  \\\n",
      "0       494.6       413.3  BAEDEBDECCEAEDDCBDEDAEECEEEDBDECBDCECBCCDABED   \n",
      "1         NaN         NaN                                            NaN   \n",
      "2       455.9       446.2  BCEDEACAEDCEDCBDDCCAADABADDEBEECBACDCCABBDCCA   \n",
      "3       676.3       386.6  CCAECCADEAADDEDDEECEDDEADDDCACDEDCDCDEADBEDDE   \n",
      "4       522.1       579.6  CDCCBDBBDCBACEBDACBCACADBCBECCEBCDDEBDACEECCD   \n",
      "\n",
      "                                 TX_RESPOSTAS_CH  \\\n",
      "0  EEEBAABCBCDBEAEBEACEDDEDECACBDBCDACECDAECBCBD   \n",
      "1                                            NaN   \n",
      "2  AAEADCDCAAADCBBBAABBEAEDABCDAACDDCBDAAABAABBB   \n",
      "3  DBBEADDCABABCECEAEBEAEDCBCAEABEEDEBBEAABCBDCD   \n",
      "4  CCBAADECCBACBECCBEADAEBEACBEBBEADEBBABDACDEBC   \n",
      "\n",
      "                                     TX_RESPOSTAS_LC  \\\n",
      "0  99999ACAEEEEBDEACDACDEABCEABBDEDBAEEBDEEACDBAC...   \n",
      "1                                                NaN   \n",
      "2  EDBEC99999DDAAEBBDCDBBAABDECAADAEACCDABCEABABE...   \n",
      "3  ABCCA99999DDCACDCACABBEAAEBDAEEBDEEAADACEEDDDB...   \n",
      "4  BADCE99999DABAABBABBBCEDBDCDABEABCBBDCACBABAAA...   \n",
      "\n",
      "                                 TX_RESPOSTAS_MT  TP_LINGUA  \\\n",
      "0  BACEACDACBAAAEDCECABBACDCDBBA.CEABCDADADBECBE          1   \n",
      "1                                            NaN          0   \n",
      "2  EBBEBDCCDDCDCBADABBBCCEABDADCBCCACBDACDCDADCE          0   \n",
      "3  CAAAAAAAAAAAAAAAAAAAAAAAAAAAAAAAAAAAAAAAAAAAA          0   \n",
      "4  CCBACBBCCCCEDDDDCBCCDCACCCBBBDDDBCBADDBCABACA          0   \n",
      "\n",
      "                                  TX_GABARITO_CN  \\\n",
      "0  EDECABEDABCBEBACCDCBBEEBBCBDAAECDCBDCDBBBADCD   \n",
      "1                                            NaN   \n",
      "2  DABCEDEBEEBBCABEDDCBCBECDADCDAACBDCCCDBBBEBAB   \n",
      "3  CDBBBCABEDEDEAAEBACCCBDABCDCBCBDECDADCDBBEEBB   \n",
      "4  CDBBBCABEDEDEAAEBACCCBDABCDCBCBDECDADCDBBEEBB   \n",
      "\n",
      "                                  TX_GABARITO_CH  \\\n",
      "0  BEECCAEABADBCAEBAAEEDDEBBBADBCBAAEEBBBADCCBBA   \n",
      "1                                            NaN   \n",
      "2  EBAAEADBCACBBABEECBAAEEBBBADCBADBCEDDEBBCAEAB   \n",
      "3  BBBAAEECBBABEECEBAAEADBCACAEABEDDEBBBADBCBADC   \n",
      "4  BBBAAEECBBABEECEBAAEADBCACAEABEDDEBBBADBCBADC   \n",
      "\n",
      "                                      TX_GABARITO_LC  \\\n",
      "0  ABBACAAECACDBDDADEBDDCBDCEDBEDDBBBBDCEEAADABAC...   \n",
      "1                                                NaN   \n",
      "2  ACABBACAEADCEADABDACDCEABDDADBEDDDEBBACCDDDCCE...   \n",
      "3  ABBCAEAACADDCACDCADABBBBDEBBACEADCEBDDACEEDDDB...   \n",
      "4  ABBCAEAACADDCACDCADABBBBDEBBACEADCEBDDACEEDDDB...   \n",
      "\n",
      "                                  TX_GABARITO_MT  TP_STATUS_REDACAO  \\\n",
      "0  EEXEBABDDCECCBCCECDCAEBADEABBDBDEDCEDCCADDCAB                1.0   \n",
      "1                                            NaN                NaN   \n",
      "2  DCCAEBABDDCABEECCBCCEXADDCEECDEBADCABBDBDEDCE                1.0   \n",
      "3  ECCCABBDBDDDCEDDCABXEEEBABEDCEDCCAEBADBCCECDA                1.0   \n",
      "4  ECCCABBDBDDDCEDDCABXEEEBABEDCEDCCAEBADBCCECDA                1.0   \n",
      "\n",
      "   NU_NOTA_COMP1  NU_NOTA_COMP2  NU_NOTA_COMP3  NU_NOTA_COMP4  NU_NOTA_COMP5  \\\n",
      "0           80.0          120.0           80.0           80.0           20.0   \n",
      "1            NaN            NaN            NaN            NaN            NaN   \n",
      "2           80.0          120.0           80.0          100.0           80.0   \n",
      "3          120.0          120.0          100.0          120.0          120.0   \n",
      "4          100.0          120.0          100.0          120.0          100.0   \n",
      "\n",
      "   NU_NOTA_REDACAO  \n",
      "0            380.0  \n",
      "1              NaN  \n",
      "2            460.0  \n",
      "3            580.0  \n",
      "4            540.0  \n"
     ]
    }
   ],
   "source": [
    "df = pd.read_csv('../databases/dados_enem_2021_BA.csv')\n",
    "\n"
   ]
  },
  {
   "cell_type": "code",
   "execution_count": 23,
   "metadata": {},
   "outputs": [
    {
     "data": {
      "text/plain": [
       "(266194, 51)"
      ]
     },
     "execution_count": 23,
     "metadata": {},
     "output_type": "execute_result"
    }
   ],
   "source": [
    "# quantidade de linhas x quantidade de colunas\n",
    "df.shape\n"
   ]
  },
  {
   "cell_type": "code",
   "execution_count": 24,
   "metadata": {},
   "outputs": [],
   "source": [
    "# súmario do dataset \n",
    "# número de valores não nulos, dtype de cada coluna, memory usage \n",
    "df.info()"
   ]
  },
  {
   "cell_type": "code",
   "execution_count": null,
   "metadata": {},
   "outputs": [],
   "source": [
    "#verifica missing data\n",
    "df.isna()"
   ]
  },
  {
   "cell_type": "code",
   "execution_count": null,
   "metadata": {},
   "outputs": [],
   "source": [
    "# Súmario estatístico dos dados\n",
    "# 25%: primeiro quartil\n",
    "# 50%: segundo quartil\n",
    "# 75%: terceiro quartil\n",
    "\n",
    "df.describe().transpose()"
   ]
  },
  {
   "cell_type": "code",
   "execution_count": null,
   "metadata": {},
   "outputs": [],
   "source": [
    "#Quantidade de valores unicos por coluna\n",
    "df.unique().sort_values(ascending = True) "
   ]
  },
  {
   "cell_type": "code",
   "execution_count": null,
   "metadata": {},
   "outputs": [],
   "source": [
    "# Selecionar multiplas colunas \n",
    "\n",
    "df.loc[:, ['TP_SEXO', 'TP_COR_RACA']]"
   ]
  },
  {
   "cell_type": "code",
   "execution_count": null,
   "metadata": {},
   "outputs": [],
   "source": [
    "# .iloc[] : seleciona colunas pela posição\n",
    "#sintaxe: df.iloc[linhas:colunas]\n",
    "\n",
    "df.iloc[0:5, 0]"
   ]
  },
  {
   "cell_type": "code",
   "execution_count": null,
   "metadata": {},
   "outputs": [],
   "source": [
    "# selecionar colunas por dtype\n",
    "\n",
    "df.select_types('str')"
   ]
  },
  {
   "cell_type": "code",
   "execution_count": null,
   "metadata": {},
   "outputs": [],
   "source": [
    "cat_cols = df.select_dtypes(include = object).columns.tolist()"
   ]
  },
  {
   "cell_type": "code",
   "execution_count": 25,
   "metadata": {},
   "outputs": [],
   "source": [
    "\n",
    "num_cols = df.select_dtypes(include = [int, float]).columns.tolist()"
   ]
  },
  {
   "cell_type": "code",
   "execution_count": 26,
   "metadata": {},
   "outputs": [
    {
     "data": {
      "text/plain": [
       "['NU_INSCRICAO',\n",
       " 'NU_ANO',\n",
       " 'TP_FAIXA_ETARIA',\n",
       " 'TP_ESTADO_CIVIL',\n",
       " 'TP_COR_RACA',\n",
       " 'TP_NACIONALIDADE',\n",
       " 'TP_ST_CONCLUSAO',\n",
       " 'TP_ANO_CONCLUIU',\n",
       " 'TP_ESCOLA',\n",
       " 'TP_ENSINO',\n",
       " 'IN_TREINEIRO',\n",
       " 'CO_MUNICIPIO_ESC',\n",
       " 'CO_UF_ESC',\n",
       " 'TP_DEPENDENCIA_ADM_ESC',\n",
       " 'TP_LOCALIZACAO_ESC',\n",
       " 'TP_SIT_FUNC_ESC',\n",
       " 'CO_MUNICIPIO_PROVA',\n",
       " 'CO_UF_PROVA',\n",
       " 'TP_PRESENCA_CN',\n",
       " 'TP_PRESENCA_CH',\n",
       " 'TP_PRESENCA_LC',\n",
       " 'TP_PRESENCA_MT',\n",
       " 'CO_PROVA_CN',\n",
       " 'CO_PROVA_CH',\n",
       " 'CO_PROVA_LC',\n",
       " 'CO_PROVA_MT',\n",
       " 'NU_NOTA_CN',\n",
       " 'NU_NOTA_CH',\n",
       " 'NU_NOTA_LC',\n",
       " 'NU_NOTA_MT',\n",
       " 'TP_LINGUA',\n",
       " 'TP_STATUS_REDACAO',\n",
       " 'NU_NOTA_COMP1',\n",
       " 'NU_NOTA_COMP2',\n",
       " 'NU_NOTA_COMP3',\n",
       " 'NU_NOTA_COMP4',\n",
       " 'NU_NOTA_COMP5',\n",
       " 'NU_NOTA_REDACAO']"
      ]
     },
     "execution_count": 26,
     "metadata": {},
     "output_type": "execute_result"
    }
   ],
   "source": [
    "num_cols"
   ]
  },
  {
   "cell_type": "code",
   "execution_count": 30,
   "metadata": {},
   "outputs": [
    {
     "data": {
      "text/plain": [
       "519.016313382275"
      ]
     },
     "execution_count": 30,
     "metadata": {},
     "output_type": "execute_result"
    }
   ],
   "source": [
    "# media de notas de alunos de colégio público \n",
    "df.query('TP_ESCOLA == 2').NU_NOTA_MT.mean()"
   ]
  },
  {
   "cell_type": "code",
   "execution_count": 31,
   "metadata": {},
   "outputs": [
    {
     "ename": "AttributeError",
     "evalue": "'DataFrame' object has no attribute 'NU_NOTA_NT'",
     "output_type": "error",
     "traceback": [
      "\u001b[1;31m---------------------------------------------------------------------------\u001b[0m",
      "\u001b[1;31mAttributeError\u001b[0m                            Traceback (most recent call last)",
      "\u001b[1;32m~\\AppData\\Local\\Temp\\ipykernel_30612\\409674581.py\u001b[0m in \u001b[0;36m?\u001b[1;34m()\u001b[0m\n\u001b[0;32m      1\u001b[0m \u001b[1;31m# mediana de notas de alunos de colégio público\u001b[0m\u001b[1;33m\u001b[0m\u001b[1;33m\u001b[0m\u001b[0m\n\u001b[1;32m----> 2\u001b[1;33m \u001b[0mdf\u001b[0m\u001b[1;33m.\u001b[0m\u001b[0mquery\u001b[0m\u001b[1;33m(\u001b[0m\u001b[1;34m'TP_ESCOLA == 2'\u001b[0m\u001b[1;33m)\u001b[0m\u001b[1;33m.\u001b[0m\u001b[0mNU_NOTA_NT\u001b[0m\u001b[1;33m.\u001b[0m\u001b[0magg\u001b[0m\u001b[1;33m(\u001b[0m\u001b[1;33m[\u001b[0m\u001b[0mnp\u001b[0m\u001b[1;33m.\u001b[0m\u001b[0mmean\u001b[0m\u001b[1;33m,\u001b[0m \u001b[0mnp\u001b[0m\u001b[1;33m.\u001b[0m\u001b[0mmedian\u001b[0m\u001b[1;33m]\u001b[0m\u001b[1;33m)\u001b[0m\u001b[1;33m\u001b[0m\u001b[1;33m\u001b[0m\u001b[0m\n\u001b[0m",
      "\u001b[1;32m~\\AppData\\Local\\Packages\\PythonSoftwareFoundation.Python.3.11_qbz5n2kfra8p0\\LocalCache\\local-packages\\Python311\\site-packages\\pandas\\core\\generic.py\u001b[0m in \u001b[0;36m?\u001b[1;34m(self, name)\u001b[0m\n\u001b[0;32m   6292\u001b[0m             \u001b[1;32mand\u001b[0m \u001b[0mname\u001b[0m \u001b[1;32mnot\u001b[0m \u001b[1;32min\u001b[0m \u001b[0mself\u001b[0m\u001b[1;33m.\u001b[0m\u001b[0m_accessors\u001b[0m\u001b[1;33m\u001b[0m\u001b[1;33m\u001b[0m\u001b[0m\n\u001b[0;32m   6293\u001b[0m             \u001b[1;32mand\u001b[0m \u001b[0mself\u001b[0m\u001b[1;33m.\u001b[0m\u001b[0m_info_axis\u001b[0m\u001b[1;33m.\u001b[0m\u001b[0m_can_hold_identifiers_and_holds_name\u001b[0m\u001b[1;33m(\u001b[0m\u001b[0mname\u001b[0m\u001b[1;33m)\u001b[0m\u001b[1;33m\u001b[0m\u001b[1;33m\u001b[0m\u001b[0m\n\u001b[0;32m   6294\u001b[0m         ):\n\u001b[0;32m   6295\u001b[0m             \u001b[1;32mreturn\u001b[0m \u001b[0mself\u001b[0m\u001b[1;33m[\u001b[0m\u001b[0mname\u001b[0m\u001b[1;33m]\u001b[0m\u001b[1;33m\u001b[0m\u001b[1;33m\u001b[0m\u001b[0m\n\u001b[1;32m-> 6296\u001b[1;33m         \u001b[1;32mreturn\u001b[0m \u001b[0mobject\u001b[0m\u001b[1;33m.\u001b[0m\u001b[0m__getattribute__\u001b[0m\u001b[1;33m(\u001b[0m\u001b[0mself\u001b[0m\u001b[1;33m,\u001b[0m \u001b[0mname\u001b[0m\u001b[1;33m)\u001b[0m\u001b[1;33m\u001b[0m\u001b[1;33m\u001b[0m\u001b[0m\n\u001b[0m",
      "\u001b[1;31mAttributeError\u001b[0m: 'DataFrame' object has no attribute 'NU_NOTA_NT'"
     ]
    }
   ],
   "source": [
    "# mediana de notas de alunos de colégio público \n",
    "df.query('TP_ESCOLA == 2').NU_NOTA_MT.agg([np.mean, np.median])"
   ]
  }
 ],
 "metadata": {
  "kernelspec": {
   "display_name": "Python 3",
   "language": "python",
   "name": "python3"
  },
  "language_info": {
   "codemirror_mode": {
    "name": "ipython",
    "version": 3
   },
   "file_extension": ".py",
   "mimetype": "text/x-python",
   "name": "python",
   "nbconvert_exporter": "python",
   "pygments_lexer": "ipython3",
   "version": "3.11.8"
  }
 },
 "nbformat": 4,
 "nbformat_minor": 2
}
